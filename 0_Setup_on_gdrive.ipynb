{
  "cells": [
    {
      "cell_type": "markdown",
      "source": [
        "以下のセルを実行すると，Google Driveへのアクセス許可が要求されると思います．これは，あなたのGoogle Driveに演習用リポジトリを保存するために必要なものです．問題なければ許可を与えてください．"
      ],
      "metadata": {
        "id": "sHvnathMIufb"
      },
      "id": "sHvnathMIufb"
    },
    {
      "cell_type": "code",
      "execution_count": null,
      "id": "466c4c59-2bb2-461c-891b-d9cc16f5cd1f",
      "metadata": {
        "id": "466c4c59-2bb2-461c-891b-d9cc16f5cd1f"
      },
      "outputs": [],
      "source": [
        "from google.colab import drive\n",
        "drive.mount('/content/gdrive')"
      ]
    },
    {
      "cell_type": "markdown",
      "source": [
        "GitHub上の演習用リポジトリを，あなたのGoogle Drive上にクローンするには，次のセルのgit cloneコマンドを実行してください．"
      ],
      "metadata": {
        "id": "IXP65Z6kOG3v"
      },
      "id": "IXP65Z6kOG3v"
    },
    {
      "cell_type": "code",
      "execution_count": null,
      "id": "b49d7575-add0-41ee-91ed-3f0b5de0bdb7",
      "metadata": {
        "id": "b49d7575-add0-41ee-91ed-3f0b5de0bdb7"
      },
      "outputs": [],
      "source": [
        "!git clone https://github.com/kwakaba/m31-lang-emerge.git /content/gdrive/MyDrive/m31-lang-emerge"
      ]
    },
    {
      "cell_type": "markdown",
      "source": [
        "クローンが正常に完了したら，Google Drive https://drive.google.com/drive/my-drive を開いてください．m31-lang-emergeというフォルダが作成されていると思います．以後は，この中にあるJupyterノートブックファイルをダブルクリックして演習を開始してください．"
      ],
      "metadata": {
        "id": "hQqhtkC7J1SD"
      },
      "id": "hQqhtkC7J1SD"
    },
    {
      "cell_type": "markdown",
      "source": [
        "なお，GitHub上のリポジトリが更新された場合，あなたのGoogle Drive上のリポジトリのクローンも更新する必要があります．これには，以下のコマンドを実行してください．（ただし，GitHub上のリポジトリで更新されたファイルが，あなたのGoogle Drive上のリポジトリでも更新されていた場合，コンフリクトが発生します．この場合は，コンフリクトを解消する必要があります．）"
      ],
      "metadata": {
        "id": "ZOeZ-tzLNAGX"
      },
      "id": "ZOeZ-tzLNAGX"
    },
    {
      "cell_type": "code",
      "source": [
        "%cd /content/gdrive/MyDrive/m31-lang-emerge\n",
        "!git fetch\n",
        "!git merge origin/main"
      ],
      "metadata": {
        "id": "ZG5pP1q4N5Ud"
      },
      "id": "ZG5pP1q4N5Ud",
      "execution_count": null,
      "outputs": []
    },
    {
      "cell_type": "code",
      "source": [],
      "metadata": {
        "id": "FuiyM3LOIoU_"
      },
      "id": "FuiyM3LOIoU_",
      "execution_count": null,
      "outputs": []
    }
  ],
  "metadata": {
    "kernelspec": {
      "display_name": "Python 3 (ipykernel)",
      "language": "python",
      "name": "python3"
    },
    "language_info": {
      "codemirror_mode": {
        "name": "ipython",
        "version": 3
      },
      "file_extension": ".py",
      "mimetype": "text/x-python",
      "name": "python",
      "nbconvert_exporter": "python",
      "pygments_lexer": "ipython3",
      "version": "3.10.5"
    },
    "colab": {
      "provenance": []
    }
  },
  "nbformat": 4,
  "nbformat_minor": 5
}