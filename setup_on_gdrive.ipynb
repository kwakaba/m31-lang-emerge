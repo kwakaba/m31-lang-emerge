{
  "cells": [
    {
      "cell_type": "markdown",
      "source": [
        "以下のセルを実行すると，Google Driveへのアクセス許可が要求されると思います．これは，あなたのGoogle Driveにリポジトリを保存するために必要なものです．問題なければ許可を与えて，次のセルのgit cloneコマンドを実行してください．"
      ],
      "metadata": {
        "id": "sHvnathMIufb"
      },
      "id": "sHvnathMIufb"
    },
    {
      "cell_type": "code",
      "execution_count": 1,
      "id": "466c4c59-2bb2-461c-891b-d9cc16f5cd1f",
      "metadata": {
        "id": "466c4c59-2bb2-461c-891b-d9cc16f5cd1f",
        "outputId": "2555026e-2fb1-498b-e7b1-4e79d86b7e7d",
        "colab": {
          "base_uri": "https://localhost:8080/"
        }
      },
      "outputs": [
        {
          "output_type": "stream",
          "name": "stdout",
          "text": [
            "Mounted at /content/gdrive\n"
          ]
        }
      ],
      "source": [
        "from google.colab import drive\n",
        "drive.mount('/content/gdrive')"
      ]
    },
    {
      "cell_type": "code",
      "execution_count": 2,
      "id": "b49d7575-add0-41ee-91ed-3f0b5de0bdb7",
      "metadata": {
        "id": "b49d7575-add0-41ee-91ed-3f0b5de0bdb7",
        "outputId": "b3b93f0a-fbaf-4864-8179-a95c8fcbb483",
        "colab": {
          "base_uri": "https://localhost:8080/"
        }
      },
      "outputs": [
        {
          "output_type": "stream",
          "name": "stdout",
          "text": [
            "Cloning into '/content/gdrive/MyDrive/m31-lang-emerge'...\n",
            "remote: Enumerating objects: 5, done.\u001b[K\n",
            "remote: Counting objects: 100% (5/5), done.\u001b[K\n",
            "remote: Compressing objects: 100% (5/5), done.\u001b[K\n",
            "remote: Total 5 (delta 0), reused 5 (delta 0), pack-reused 0\u001b[K\n",
            "Receiving objects: 100% (5/5), done.\n"
          ]
        }
      ],
      "source": [
        "!git clone https://github.com/kwakaba/m31-lang-emerge.git /content/gdrive/MyDrive/m31-lang-emerge"
      ]
    },
    {
      "cell_type": "markdown",
      "source": [
        "クローンが正常に完了したら，Google Drive https://drive.google.com/drive/my-drive を開いてください．m31-lang-emergeというフォルダが作成されていると思います．以後は，この中にあるJupyterノートブックファイルをダブルクリックして演習を開始してください．"
      ],
      "metadata": {
        "id": "hQqhtkC7J1SD"
      },
      "id": "hQqhtkC7J1SD"
    },
    {
      "cell_type": "code",
      "source": [],
      "metadata": {
        "id": "FuiyM3LOIoU_"
      },
      "id": "FuiyM3LOIoU_",
      "execution_count": null,
      "outputs": []
    }
  ],
  "metadata": {
    "kernelspec": {
      "display_name": "Python 3 (ipykernel)",
      "language": "python",
      "name": "python3"
    },
    "language_info": {
      "codemirror_mode": {
        "name": "ipython",
        "version": 3
      },
      "file_extension": ".py",
      "mimetype": "text/x-python",
      "name": "python",
      "nbconvert_exporter": "python",
      "pygments_lexer": "ipython3",
      "version": "3.10.5"
    },
    "colab": {
      "provenance": []
    }
  },
  "nbformat": 4,
  "nbformat_minor": 5
}